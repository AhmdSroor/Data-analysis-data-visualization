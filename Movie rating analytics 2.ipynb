{
 "cells": [
  {
   "cell_type": "code",
   "execution_count": 1,
   "metadata": {},
   "outputs": [],
   "source": [
    "import pandas as pd\n",
    "import matplotlib.pyplot as plt\n",
    "import seaborn as sns\n",
    "import warnings\n",
    "warnings.filterwarnings('ignore')\n",
    "%matplotlib inline"
   ]
  },
  {
   "cell_type": "code",
   "execution_count": 4,
   "metadata": {},
   "outputs": [],
   "source": [
    "HWdata = pd.read_csv('/home/ahmdsroor/pythoncourse/section 6/P4-Section6-Homework-Dataset.csv', encoding = 'latin1')"
   ]
  },
  {
   "cell_type": "code",
   "execution_count": 5,
   "metadata": {},
   "outputs": [
    {
     "data": {
      "text/html": [
       "<div>\n",
       "<style scoped>\n",
       "    .dataframe tbody tr th:only-of-type {\n",
       "        vertical-align: middle;\n",
       "    }\n",
       "\n",
       "    .dataframe tbody tr th {\n",
       "        vertical-align: top;\n",
       "    }\n",
       "\n",
       "    .dataframe thead th {\n",
       "        text-align: right;\n",
       "    }\n",
       "</style>\n",
       "<table border=\"1\" class=\"dataframe\">\n",
       "  <thead>\n",
       "    <tr style=\"text-align: right;\">\n",
       "      <th></th>\n",
       "      <th>Day of Week</th>\n",
       "      <th>Director</th>\n",
       "      <th>Genre</th>\n",
       "      <th>Movie Title</th>\n",
       "      <th>Release Date</th>\n",
       "      <th>Studio</th>\n",
       "      <th>Adjusted Gross ($mill)</th>\n",
       "      <th>Budget ($mill)</th>\n",
       "      <th>Gross ($mill)</th>\n",
       "      <th>IMDb Rating</th>\n",
       "      <th>MovieLens Rating</th>\n",
       "      <th>Overseas ($mill)</th>\n",
       "      <th>Overseas%</th>\n",
       "      <th>Profit ($mill)</th>\n",
       "      <th>Profit%</th>\n",
       "      <th>Runtime (min)</th>\n",
       "      <th>US ($mill)</th>\n",
       "      <th>Gross % US</th>\n",
       "    </tr>\n",
       "  </thead>\n",
       "  <tbody>\n",
       "    <tr>\n",
       "      <th>0</th>\n",
       "      <td>Friday</td>\n",
       "      <td>Brad Bird</td>\n",
       "      <td>action</td>\n",
       "      <td>Tomorrowland</td>\n",
       "      <td>22/05/2015</td>\n",
       "      <td>Buena Vista Studios</td>\n",
       "      <td>202.1</td>\n",
       "      <td>170.0</td>\n",
       "      <td>202.1</td>\n",
       "      <td>6.7</td>\n",
       "      <td>3.26</td>\n",
       "      <td>111.9</td>\n",
       "      <td>55.4</td>\n",
       "      <td>32.1</td>\n",
       "      <td>18.9</td>\n",
       "      <td>130</td>\n",
       "      <td>90.2</td>\n",
       "      <td>44.6</td>\n",
       "    </tr>\n",
       "    <tr>\n",
       "      <th>1</th>\n",
       "      <td>Friday</td>\n",
       "      <td>Scott Waugh</td>\n",
       "      <td>action</td>\n",
       "      <td>Need for Speed</td>\n",
       "      <td>14/03/2014</td>\n",
       "      <td>Buena Vista Studios</td>\n",
       "      <td>204.2</td>\n",
       "      <td>66.0</td>\n",
       "      <td>203.3</td>\n",
       "      <td>6.6</td>\n",
       "      <td>2.97</td>\n",
       "      <td>159.7</td>\n",
       "      <td>78.6</td>\n",
       "      <td>137.3</td>\n",
       "      <td>208.0</td>\n",
       "      <td>132</td>\n",
       "      <td>43.6</td>\n",
       "      <td>21.4</td>\n",
       "    </tr>\n",
       "    <tr>\n",
       "      <th>2</th>\n",
       "      <td>Friday</td>\n",
       "      <td>Patrick Hughes</td>\n",
       "      <td>action</td>\n",
       "      <td>The Expendables 3</td>\n",
       "      <td>15/08/2014</td>\n",
       "      <td>Lionsgate</td>\n",
       "      <td>207.1</td>\n",
       "      <td>100.0</td>\n",
       "      <td>206.2</td>\n",
       "      <td>6.1</td>\n",
       "      <td>2.93</td>\n",
       "      <td>166.9</td>\n",
       "      <td>80.9</td>\n",
       "      <td>106.2</td>\n",
       "      <td>106.2</td>\n",
       "      <td>126</td>\n",
       "      <td>39.3</td>\n",
       "      <td>19.1</td>\n",
       "    </tr>\n",
       "    <tr>\n",
       "      <th>3</th>\n",
       "      <td>Friday</td>\n",
       "      <td>Phil Lord, Chris Miller</td>\n",
       "      <td>comedy</td>\n",
       "      <td>21 Jump Street</td>\n",
       "      <td>16/03/2012</td>\n",
       "      <td>Sony</td>\n",
       "      <td>208.8</td>\n",
       "      <td>42.0</td>\n",
       "      <td>201.6</td>\n",
       "      <td>7.2</td>\n",
       "      <td>3.62</td>\n",
       "      <td>63.1</td>\n",
       "      <td>31.3</td>\n",
       "      <td>159.6</td>\n",
       "      <td>380.0</td>\n",
       "      <td>109</td>\n",
       "      <td>138.4</td>\n",
       "      <td>68.7</td>\n",
       "    </tr>\n",
       "    <tr>\n",
       "      <th>4</th>\n",
       "      <td>Friday</td>\n",
       "      <td>Roland Emmerich</td>\n",
       "      <td>action</td>\n",
       "      <td>White House Down</td>\n",
       "      <td>28/06/2013</td>\n",
       "      <td>Sony</td>\n",
       "      <td>209.7</td>\n",
       "      <td>150.0</td>\n",
       "      <td>205.4</td>\n",
       "      <td>8.0</td>\n",
       "      <td>3.65</td>\n",
       "      <td>132.3</td>\n",
       "      <td>64.4</td>\n",
       "      <td>55.4</td>\n",
       "      <td>36.9</td>\n",
       "      <td>131</td>\n",
       "      <td>73.1</td>\n",
       "      <td>35.6</td>\n",
       "    </tr>\n",
       "    <tr>\n",
       "      <th>...</th>\n",
       "      <td>...</td>\n",
       "      <td>...</td>\n",
       "      <td>...</td>\n",
       "      <td>...</td>\n",
       "      <td>...</td>\n",
       "      <td>...</td>\n",
       "      <td>...</td>\n",
       "      <td>...</td>\n",
       "      <td>...</td>\n",
       "      <td>...</td>\n",
       "      <td>...</td>\n",
       "      <td>...</td>\n",
       "      <td>...</td>\n",
       "      <td>...</td>\n",
       "      <td>...</td>\n",
       "      <td>...</td>\n",
       "      <td>...</td>\n",
       "      <td>...</td>\n",
       "    </tr>\n",
       "    <tr>\n",
       "      <th>603</th>\n",
       "      <td>Wednesday</td>\n",
       "      <td>William Friedkin</td>\n",
       "      <td>horror</td>\n",
       "      <td>The Exorcist</td>\n",
       "      <td>26/12/1973</td>\n",
       "      <td>WB</td>\n",
       "      <td>2,363.60</td>\n",
       "      <td>12.0</td>\n",
       "      <td>441.3</td>\n",
       "      <td>6.9</td>\n",
       "      <td>3.39</td>\n",
       "      <td>208.4</td>\n",
       "      <td>47.2</td>\n",
       "      <td>429.3</td>\n",
       "      <td>3577.5</td>\n",
       "      <td>122</td>\n",
       "      <td>232.9</td>\n",
       "      <td>52.8</td>\n",
       "    </tr>\n",
       "    <tr>\n",
       "      <th>604</th>\n",
       "      <td>Wednesday</td>\n",
       "      <td>George Lucas</td>\n",
       "      <td>action</td>\n",
       "      <td>Star Wars</td>\n",
       "      <td>25/05/1977</td>\n",
       "      <td>Fox</td>\n",
       "      <td>3,042.80</td>\n",
       "      <td>11.0</td>\n",
       "      <td>775.4</td>\n",
       "      <td>8.7</td>\n",
       "      <td>4.19</td>\n",
       "      <td>314.4</td>\n",
       "      <td>40.5</td>\n",
       "      <td>764.4</td>\n",
       "      <td>6949.1</td>\n",
       "      <td>121</td>\n",
       "      <td>461.0</td>\n",
       "      <td>59.5</td>\n",
       "    </tr>\n",
       "    <tr>\n",
       "      <th>605</th>\n",
       "      <td>Friday</td>\n",
       "      <td>James Cameron</td>\n",
       "      <td>sci-fi</td>\n",
       "      <td>Avatar</td>\n",
       "      <td>18/12/2009</td>\n",
       "      <td>Fox</td>\n",
       "      <td>3,090.40</td>\n",
       "      <td>237.0</td>\n",
       "      <td>2,788</td>\n",
       "      <td>7.9</td>\n",
       "      <td>3.78</td>\n",
       "      <td>2,027.50</td>\n",
       "      <td>72.7</td>\n",
       "      <td>2,551</td>\n",
       "      <td>1076.4</td>\n",
       "      <td>162</td>\n",
       "      <td>760.5</td>\n",
       "      <td>27.3</td>\n",
       "    </tr>\n",
       "    <tr>\n",
       "      <th>606</th>\n",
       "      <td>Wednesday</td>\n",
       "      <td>James Cameron</td>\n",
       "      <td>drama</td>\n",
       "      <td>Titanic</td>\n",
       "      <td>17/12/1997</td>\n",
       "      <td>Paramount Pictures</td>\n",
       "      <td>3,240.10</td>\n",
       "      <td>200.0</td>\n",
       "      <td>2,186.80</td>\n",
       "      <td>7.7</td>\n",
       "      <td>3.38</td>\n",
       "      <td>1,528.10</td>\n",
       "      <td>69.9</td>\n",
       "      <td>1,986.80</td>\n",
       "      <td>993.4</td>\n",
       "      <td>194</td>\n",
       "      <td>658.7</td>\n",
       "      <td>30.1</td>\n",
       "    </tr>\n",
       "    <tr>\n",
       "      <th>607</th>\n",
       "      <td>Friday</td>\n",
       "      <td>George Cukor, Victor Fleming, Sam Wood</td>\n",
       "      <td>drama</td>\n",
       "      <td>Gone with the Wind</td>\n",
       "      <td>15/12/1939</td>\n",
       "      <td>MGM</td>\n",
       "      <td>6,846.70</td>\n",
       "      <td>3.9</td>\n",
       "      <td>400.2</td>\n",
       "      <td>8.2</td>\n",
       "      <td>3.83</td>\n",
       "      <td>201.5</td>\n",
       "      <td>50.4</td>\n",
       "      <td>396.3</td>\n",
       "      <td>10161.5</td>\n",
       "      <td>238</td>\n",
       "      <td>198.7</td>\n",
       "      <td>49.6</td>\n",
       "    </tr>\n",
       "  </tbody>\n",
       "</table>\n",
       "<p>608 rows × 18 columns</p>\n",
       "</div>"
      ],
      "text/plain": [
       "    Day of Week                                Director   Genre  \\\n",
       "0        Friday                               Brad Bird  action   \n",
       "1        Friday                             Scott Waugh  action   \n",
       "2        Friday                          Patrick Hughes  action   \n",
       "3        Friday                 Phil Lord, Chris Miller  comedy   \n",
       "4        Friday                         Roland Emmerich  action   \n",
       "..          ...                                     ...     ...   \n",
       "603   Wednesday                        William Friedkin  horror   \n",
       "604   Wednesday                            George Lucas  action   \n",
       "605      Friday                           James Cameron  sci-fi   \n",
       "606   Wednesday                           James Cameron   drama   \n",
       "607      Friday  George Cukor, Victor Fleming, Sam Wood   drama   \n",
       "\n",
       "            Movie Title Release Date               Studio  \\\n",
       "0          Tomorrowland   22/05/2015  Buena Vista Studios   \n",
       "1        Need for Speed   14/03/2014  Buena Vista Studios   \n",
       "2     The Expendables 3   15/08/2014            Lionsgate   \n",
       "3        21 Jump Street   16/03/2012                 Sony   \n",
       "4      White House Down   28/06/2013                 Sony   \n",
       "..                  ...          ...                  ...   \n",
       "603        The Exorcist   26/12/1973                   WB   \n",
       "604           Star Wars   25/05/1977                  Fox   \n",
       "605              Avatar   18/12/2009                  Fox   \n",
       "606             Titanic   17/12/1997   Paramount Pictures   \n",
       "607  Gone with the Wind   15/12/1939                  MGM   \n",
       "\n",
       "    Adjusted Gross ($mill)  Budget ($mill) Gross ($mill)  IMDb Rating  \\\n",
       "0                    202.1           170.0         202.1          6.7   \n",
       "1                    204.2            66.0         203.3          6.6   \n",
       "2                    207.1           100.0         206.2          6.1   \n",
       "3                    208.8            42.0         201.6          7.2   \n",
       "4                    209.7           150.0         205.4          8.0   \n",
       "..                     ...             ...           ...          ...   \n",
       "603               2,363.60            12.0         441.3          6.9   \n",
       "604               3,042.80            11.0         775.4          8.7   \n",
       "605               3,090.40           237.0         2,788          7.9   \n",
       "606               3,240.10           200.0      2,186.80          7.7   \n",
       "607               6,846.70             3.9         400.2          8.2   \n",
       "\n",
       "     MovieLens Rating Overseas ($mill)  Overseas% Profit ($mill)  Profit%  \\\n",
       "0                3.26            111.9       55.4           32.1     18.9   \n",
       "1                2.97            159.7       78.6          137.3    208.0   \n",
       "2                2.93            166.9       80.9          106.2    106.2   \n",
       "3                3.62             63.1       31.3          159.6    380.0   \n",
       "4                3.65            132.3       64.4           55.4     36.9   \n",
       "..                ...              ...        ...            ...      ...   \n",
       "603              3.39            208.4       47.2          429.3   3577.5   \n",
       "604              4.19            314.4       40.5          764.4   6949.1   \n",
       "605              3.78         2,027.50       72.7          2,551   1076.4   \n",
       "606              3.38         1,528.10       69.9       1,986.80    993.4   \n",
       "607              3.83            201.5       50.4          396.3  10161.5   \n",
       "\n",
       "     Runtime (min)  US ($mill)  Gross % US  \n",
       "0              130        90.2        44.6  \n",
       "1              132        43.6        21.4  \n",
       "2              126        39.3        19.1  \n",
       "3              109       138.4        68.7  \n",
       "4              131        73.1        35.6  \n",
       "..             ...         ...         ...  \n",
       "603            122       232.9        52.8  \n",
       "604            121       461.0        59.5  \n",
       "605            162       760.5        27.3  \n",
       "606            194       658.7        30.1  \n",
       "607            238       198.7        49.6  \n",
       "\n",
       "[608 rows x 18 columns]"
      ]
     },
     "execution_count": 5,
     "metadata": {},
     "output_type": "execute_result"
    }
   ],
   "source": [
    "HWdata"
   ]
  },
  {
   "cell_type": "code",
   "execution_count": 7,
   "metadata": {},
   "outputs": [
    {
     "data": {
      "text/plain": [
       "array(['Buena Vista Studios', 'Lionsgate', 'Sony', 'Universal',\n",
       "       'Paramount Pictures', 'WB', 'Weinstein Company',\n",
       "       'UA Entertainment', 'WB/New Line', 'New Line Cinema', 'Fox',\n",
       "       'TriStar', 'Relativity Media', 'Screen Gems', 'StudioCanal',\n",
       "       'Fox Searchlight Pictures', 'MiraMax', 'Path_ Distribution',\n",
       "       'DreamWorks', 'Lionsgate Films', 'Revolution Studios',\n",
       "       'Dimension Films', 'USA', 'Lionsgate/Summit',\n",
       "       'Sony Picture Classics', 'Pacific Data/DreamWorks', 'Disney',\n",
       "       'Art House Studios', 'Colombia Pictures', 'Gramercy Pictures',\n",
       "       'Summit Entertainment', 'Vestron Pictures', 'MGM', 'Orion', 'IFC',\n",
       "       'New Market Films'], dtype=object)"
      ]
     },
     "execution_count": 7,
     "metadata": {},
     "output_type": "execute_result"
    }
   ],
   "source": [
    "HWdata.Studio.unique()"
   ]
  },
  {
   "cell_type": "code",
   "execution_count": 8,
   "metadata": {},
   "outputs": [
    {
     "data": {
      "text/plain": [
       "array(['action', 'comedy', 'adventure', 'horror', 'animation',\n",
       "       'biography', 'drama', 'musical', 'sci-fi', 'crime', 'romance',\n",
       "       'fantasy', 'mystery', 'thriller', 'documentary'], dtype=object)"
      ]
     },
     "execution_count": 8,
     "metadata": {},
     "output_type": "execute_result"
    }
   ],
   "source": [
    "HWdata.Genre.unique()"
   ]
  },
  {
   "cell_type": "code",
   "execution_count": 10,
   "metadata": {},
   "outputs": [],
   "source": [
    "# Filter the dataframe by genre\n",
    "mov2 = HWdata[(HWdata.Genre == 'action') | (HWdata.Genre == 'adventure') | (HWdata.Genre == 'animation') | (HWdata.Genre == 'comedy') | (HWdata.Genre == 'drama')]"
   ]
  },
  {
   "cell_type": "code",
   "execution_count": 44,
   "metadata": {},
   "outputs": [],
   "source": [
    "# Filter the dataframe by studio\n",
    "mov3 = mov2[(mov2.Studio == 'Buena Vista Studios') | (mov2.Studio == 'Fox') | (mov2.Studio == 'Paramount Pictures') | (mov2.Studio == 'Sony') | (mov2.Studio == 'Universal') | (mov2.Studio == 'WB')]"
   ]
  },
  {
   "cell_type": "code",
   "execution_count": 45,
   "metadata": {},
   "outputs": [
    {
     "data": {
      "text/plain": [
       "array(['action', 'comedy', 'adventure', 'animation', 'drama'],\n",
       "      dtype=object)"
      ]
     },
     "execution_count": 45,
     "metadata": {},
     "output_type": "execute_result"
    }
   ],
   "source": [
    "mov2.Genre.unique()"
   ]
  },
  {
   "cell_type": "code",
   "execution_count": 46,
   "metadata": {},
   "outputs": [
    {
     "data": {
      "text/plain": [
       "array(['Buena Vista Studios', 'Sony', 'Universal', 'WB',\n",
       "       'Paramount Pictures', 'Fox'], dtype=object)"
      ]
     },
     "execution_count": 46,
     "metadata": {},
     "output_type": "execute_result"
    }
   ],
   "source": [
    "mov3.Studio.unique()"
   ]
  },
  {
   "cell_type": "code",
   "execution_count": 47,
   "metadata": {},
   "outputs": [
    {
     "data": {
      "text/plain": [
       "Index(['Day of Week', 'Director', 'Genre', 'Movie Title', 'Release Date',\n",
       "       'Studio', 'Adjusted Gross ($mill)', 'Budget ($mill)', 'Gross ($mill)',\n",
       "       'IMDb Rating', 'MovieLens Rating', 'Overseas ($mill)', 'Overseas%',\n",
       "       'Profit ($mill)', 'Profit%', 'Runtime (min)', 'US ($mill)',\n",
       "       'Gross % US'],\n",
       "      dtype='object')"
      ]
     },
     "execution_count": 47,
     "metadata": {},
     "output_type": "execute_result"
    }
   ],
   "source": [
    "HWdata.columns"
   ]
  },
  {
   "cell_type": "code",
   "execution_count": 65,
   "metadata": {},
   "outputs": [
    {
     "data": {
      "image/png": "[encoded data removed]",
      "text/plain": [
       "<Figure size 432x288 with 1 Axes>"
      ]
     },
     "metadata": {},
     "output_type": "display_data"
    },
    {
     "data": {
      "image/png": "[encoded data removed]",
      "text/plain": [
       "<Figure size 1080x1080 with 1 Axes>"
      ]
     },
     "metadata": {},
     "output_type": "display_data"
    }
   ],
   "source": [
    "sns.set(style = \"darkgrid\", palette = \"muted\", color_codes = True)\n",
    "\n",
    "ax = sns.boxplot(data = mov3, x = 'Genre', y = 'Gross % US', orient = 'v', color = 'lightgray', showfliers = False)\n",
    "\n",
    "plt.setp(ax.artists, alpha=0.5)\n",
    "\n",
    "sns.stripplot(x = 'Genre', y = 'Gross % US', data = mov3, jitter = True, size = 6, linewidth = 0, hue = 'Studio', alpha = 0.7)\n",
    "\n",
    "ax.axes.set_title('Domestic Gross % by Genre',fontsize=30)\n",
    "ax.set_xlabel('Genre',fontsize=20)\n",
    "ax.set_ylabel('Gross % US',fontsize=20)\n",
    "\n",
    "# Define where to place the legend\n",
    "ax.legend(bbox_to_anchor=(1.05, 1), loc=2, borderaxespad=0.)\n",
    "\n",
    "\n"
   ]
  },
  {
   "cell_type": "code",
   "execution_count": null,
   "metadata": {},
   "outputs": [],
   "source": [
    "#genre filters\n",
    "# genre_filters = ['action',adventure', 'animation', 'comedy', 'drama']\n",
    "#mov2 = HWdata[HWdata.Genre.isin(genre_filters)]\n",
    "# same can be done in studio filters"
   ]
  }
 ],
 "metadata": {
  "kernelspec": {
   "display_name": "Python 3",
   "language": "python",
   "name": "python3"
  },
  "language_info": {
   "codemirror_mode": {
    "name": "ipython",
    "version": 3
   },
   "file_extension": ".py",
   "mimetype": "text/x-python",
   "name": "python",
   "nbconvert_exporter": "python",
   "pygments_lexer": "ipython3",
   "version": "3.7.6"
  }
 },
 "nbformat": 4,
 "nbformat_minor": 4
}
